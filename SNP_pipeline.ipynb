{
 "cells": [
  {
   "cell_type": "markdown",
   "metadata": {},
   "source": [
    "# Installing dependencies"
   ]
  },
  {
   "cell_type": "code",
   "execution_count": null,
   "metadata": {},
   "outputs": [],
   "source": [
    "#Installing all necessary dependencies, assuming that Conda/Anaconda already installed\n",
    "!conda install -y -c bioconda sra-tools\n",
    "!conda install -y -c bioconda fastqc\n",
    "!conda install -y -c bioconda freebayes\n",
    "!conda install -y -c bioconda VCFtools\n",
    "!conda install -y -c bioconda trimmomatic\n",
    "!conda install -y -c bioconda bwa\n",
    "!conda install -y -c bioconda samtools"
   ]
  },
  {
   "cell_type": "markdown",
   "metadata": {},
   "source": [
    "# Dictionary of necessary files"
   ]
  },
  {
   "cell_type": "code",
   "execution_count": null,
   "metadata": {},
   "outputs": [],
   "source": [
    "sra_accessions = {#Meloidogyne incognita \n",
    "                    'MincHarC':['SRR4242466','SRR4242465'], 'MincL19':['SRR4242479'], 'MincL9'  :['SRR4242469'],\n",
    "                    'MincVW6' :['SRR4242464','SRR4242463'], 'MincL27':['SRR4242470'], 'Minc557R':['SRR4242467'],\n",
    "                    'MincW1'  :['SRR4242461','SRR4242460'], 'MincA14':['SRR4242456'],  \n",
    "                  #Heterorhabditis bacteriophora \n",
    "                    'HbactGebreg2a1223': ['SRR6846592'], \n",
    "                  #Rotylenchulus reniformis \n",
    "                    'RreniWGA':['SRR2032116'], 'RreniMP': ['SRR2029861'], \n",
    "                  #Acrobeloides nanus \n",
    "                    'Ananu':['SRR7511511'], \n",
    "                  #Globodera rostochiensis \n",
    "                    'GrostS001385':['SRR2989854'], 'GrostSC': ['ERR123958'],\n",
    "                    'GrostS00138A':['SRR2989857'], 'GrostS00138D': ['SRR2989858']}"
   ]
  },
  {
   "cell_type": "markdown",
   "metadata": {},
   "source": [
    "# Getting SRA data"
   ]
  },
  {
   "cell_type": "code",
   "execution_count": null,
   "metadata": {},
   "outputs": [],
   "source": [
    "from os import path\n",
    "for smpl in sra_accessions:\n",
    "    outdir = 'SRA_data/%s' % smpl\n",
    "    if path.exists(outdir):\n",
    "        continue\n",
    "    a = !mkdir $outdir\n",
    "    for acc in sra_accessions[smpl]:\n",
    "        a = !fastq-dump -A $acc -O $outdir --gzip --split-files"
   ]
  },
  {
   "cell_type": "markdown",
   "metadata": {},
   "source": [
    "# Quality trimming with Trimmomatic\n",
    "- Delete \"bad\" reads\n",
    "- Remove primers and adapters if there any"
   ]
  },
  {
   "cell_type": "code",
   "execution_count": null,
   "metadata": {},
   "outputs": [],
   "source": [
    "from os import path\n",
    "for smpl in sra_accessions:\n",
    "    for acc in sra_accessions[smpl]:\n",
    "        outdir   = 'SRA_data/%s/%s_2_paired.fq.gz'   % (smpl, acc)\n",
    "        if path.exists(outdir):\n",
    "            continue #checking if files already exists to skip processed samples\n",
    "        input_1  = \"SRA_data/%s/%s_1.fastq.gz\"       % (smpl, acc)\n",
    "        input_2  = \"SRA_data/%s/%s_2.fastq.gz\"       % (smpl, acc)\n",
    "        output_1 = \"SRA_data/%s/%s_1_paired.fq.gz\"   % (smpl, acc)\n",
    "        output_2 = \"SRA_data/%s/%s_1_unpaired.fq.gz\" % (smpl, acc)\n",
    "        output_3 = \"SRA_data/%s/%s_2_paired.fq.gz\"   % (smpl, acc)\n",
    "        output_4 = \"SRA_data/%s/%s_2_unpaired.fq.gz\" % (smpl, acc)\n",
    "        !trimmomatic PE -threads 10 -phred33 $input_1 $input_2 $output_1 $output_2 $output_3 $output_4 ILLUMINACLIP:adapters.fa:2:30:10 LEADING:3 TRAILING:3 SLIDINGWINDOW:4:15 MINLEN:36\n",
    "        !rm $input_1 $input_2 output_2 output_4 #optional cleaning, comment this line if you want to keep input files"
   ]
  },
  {
   "cell_type": "markdown",
   "metadata": {},
   "source": [
    "# Running FastQC with trimmed and paired files\n",
    "Checking the quality of the reads"
   ]
  },
  {
   "cell_type": "code",
   "execution_count": null,
   "metadata": {},
   "outputs": [],
   "source": [
    "from os import path\n",
    "for smpl in sra_accessions:\n",
    "    for acc in sra_accessions[smpl]:\n",
    "        outdir = 'SRA_data/%s/%s_2_paired_fastqc.zip' % (smpl, acc)\n",
    "        if path.exists(outdir):\n",
    "            continue\n",
    "        a = smpl + \"/*_paired.fq.gz\"\n",
    "        !fastqc SRA_data/$a -t 10"
   ]
  },
  {
   "cell_type": "markdown",
   "metadata": {},
   "source": [
    "### If some files are in one folder in several replicates use terminal, cd to folder and merge them like: \n",
    "    cat first_file_1.fq.gz second_file_1.fq.gz > first_file_second_file_1.fq.gz\n",
    "    cat first_file_2.fq.gz second_file_2.fq.gz > first_file_second_file_2.fq.gz"
   ]
  },
  {
   "cell_type": "markdown",
   "metadata": {},
   "source": [
    "# BWA alignment and SNP calling"
   ]
  },
  {
   "cell_type": "code",
   "execution_count": null,
   "metadata": {},
   "outputs": [],
   "source": [
    "from os import path\n",
    "ref = \"\" #for different reference genomes\n",
    "for smpl in sra_accessions:\n",
    "    outdir = \"SRA_data/%s/%s_snp_ratio.vcf.AD.FORMAT\" % (smpl, smpl)\n",
    "    if path.exists(outdir):\n",
    "        continue\n",
    "    if \"Minc\" in smpl:\n",
    "        ref = \"Reference/Meloidogyne_incognita/New_ref/Minc_anot.fasta\"\n",
    "    elif \"Hbact\" in smpl:\n",
    "        ref = \"Reference/Heterorhabditis_bacteriophora/Heterorhabditis_bacteriophora.fasta\"\n",
    "    elif \"Rreni\" in smpl:\n",
    "        ref = \"Reference/Rotylenchulus_reniformis/Rotylenchulus_reniformis.fasta\"\n",
    "    elif \"Ananu\" in smpl:\n",
    "        ref = \"Reference/Acrobeloides_nanus/Acrobeloides_nanus.fasta\"   \n",
    "    elif \"Grost\" in smpl:\n",
    "        ref = \"Reference/Globodera_rostochiensis/Globodera_rostochiensis.fasta\"       \n",
    "#bwa alignment\n",
    "    read_1= \"SRA_data/%s/%s_1_paired.fq.gz\" % (smpl, '*')\n",
    "    read_2= \"SRA_data/%s/%s_2_paired.fq.gz\" % (smpl, '*')\n",
    "    sam   = \"SRA_data/%s/%s_aln.sam\"        % (smpl, smpl)\n",
    "    !bwa index $ref\n",
    "    !bwa mem -M -t 10 $ref $read_1 $read_2 > $sam\n",
    "#converting sam to bam\n",
    "    bam   = \"SRA_data/%s/%s_aln.bam\"        % (smpl, smpl)\n",
    "    !samtools view -@10 -Sb $sam > $bam\n",
    "#sorting and indexing bam\n",
    "    sbam  = \"SRA_data/%s/%s_aln_sorted.bam\" % (smpl, smpl)\n",
    "    !samtools sort -@10 $bam > $sbam\n",
    "    !samtools index -@10 $sbam\n",
    "    !rm $sam $bam #optional, cleaning to save some space\n",
    "#Freebayes SNP calling\n",
    "    snp_vcf = \"SRA_data/%s/%s_snp_filtered.vcf\" % (smpl, smpl)\n",
    "    !freebayes -f $ref $sbam > $snp_vcf -N -G 10\n",
    "#vcftools filtering\n",
    "    freebayes_snp_vcf   = \"SRA_data/%s/%s_snp_filtered.vcf\" % (smpl, smpl)\n",
    "    freebayes_snp_ratio = \"SRA_data/%s/%s_snp_ratio.vcf\"    % (smpl, smpl)\n",
    "    freebayes_snp_type  = \"SRA_data/%s/%s_snp_type.vcf\"     % (smpl, smpl)\n",
    "    freebayes_SW50      = \"SRA_data/%s/%s_SW50.vcf\"         % (smpl, smpl)\n",
    "    !vcftools --vcf $freebayes_snp_vcf --extract-FORMAT-info AD --out $freebayes_snp_ratio\n",
    "    !vcftools --vcf $freebayes_snp_vcf --get-INFO TYPE --out $freebayes_snp_type\n",
    "    !vcftools --vcf $freebayes_snp_vcf --out $freebayes_SW50 --site-pi \n",
    "    !vcftools --vcf $freebayes_snp_vcf --out $freebayes_SW50 --window-pi 50\n",
    "    !vcftools --vcf $freebayes_snp_vcf --out $freebayes_SW50 --freq \n",
    "    !vcftools --vcf $freebayes_snp_vcf --out $freebayes_SW50 --counts\n",
    "    !vcftools --vcf $freebayes_snp_vcf --out $freebayes_SW50 --SNPdensity 50"
   ]
  },
  {
   "cell_type": "markdown",
   "metadata": {},
   "source": [
    "# SNP ratio"
   ]
  },
  {
   "cell_type": "code",
   "execution_count": null,
   "metadata": {},
   "outputs": [],
   "source": [
    "import pandas as pd\n",
    "import numpy as np\n",
    "for smpl in sra_accessions:\n",
    "    snp_df = pd.read_table(\"SRA_data/%s/%s_snp_ratio.vcf.AD.FORMAT\" % (smpl, smpl))\n",
    "    VCF_df = pd.read_table(\"SRA_data/%s/%s_snp_filtered.vcf\" % (smpl, smpl), skiprows = 64)\n",
    "    snp = pd.concat([snp_df, VCF_df], axis = 1)\n",
    "    snp.columns = ['CHROM', 'POS', 'COUNT', '#CHROM', '#POS', 'ID', 'REF', 'ALT', 'QUAL', 'FILTER', 'INFO', 'FORMAT', 'unknown']\n",
    "    snp = snp.filter(items = ['CHROM', 'POS', 'COUNT', 'REF', 'ALT'])\n",
    "    snp['COUNT'] = snp['COUNT'].str.split(',').tolist()\n",
    "    snp['Count_REF'] = snp['COUNT'].str[0]\n",
    "    snp['Count_ALT_1'] = snp['COUNT'].str[1]\n",
    "    snp['Count_ALT_2'] = snp['COUNT'].str[2]\n",
    "    snp.Count_REF = snp.Count_REF.astype(float)\n",
    "    snp.Count_ALT_1 = snp.Count_ALT_1.astype(float)\n",
    "    snp.Count_ALT_2 = snp.Count_ALT_2.astype(float)\n",
    "    snp = snp.where((pd.notnull(snp)), 0)\n",
    "    snp['COUNT_ALL'] = snp['Count_REF'] + snp['Count_ALT_1'] + snp['Count_ALT_2']\n",
    "    snp['Rat_REF'] = snp['Count_REF'] / snp['COUNT_ALL']\n",
    "    snp['Rat_ALT_1'] = snp['Count_ALT_1'] / snp['COUNT_ALL']\n",
    "    snp['Rat_ALT_2'] = snp['Count_ALT_2'] / snp['COUNT_ALL']\n",
    "    type_df = pd.read_table(\"SRA_data/%s/%s_snp_type.vcf.INFO\" % (smpl, smpl))\n",
    "    snp = pd.concat([snp, type_df], axis = 1)\n",
    "    snp.columns = ['CHROM', 'POS', 'COUNT', 'REF', 'ALT', 'Count_REF', 'Count_ALT_1', 'Count_ALT_2', 'COUNT_ALL', \n",
    "                   'Rat_REF', 'Rat_ALT_1', 'Rat_ALT_2', 'CHROM2', 'POS2', 'REF2', 'ALT2', 'TYPE']\n",
    "    snp = snp.filter(items = ['CHROM', 'POS', 'COUNT', 'REF', 'ALT', 'Count_REF', 'Count_ALT_1', 'Count_ALT_2', \n",
    "                              'COUNT_ALL', 'Rat_REF', 'Rat_ALT_1', 'Rat_ALT_2', 'TYPE'])\n",
    "    snp = snp.loc[snp['Rat_REF'] < 0.9]\n",
    "    snp = snp.loc[snp['Rat_ALT_1'] < 0.9]\n",
    "    snp = snp.loc[snp['Rat_ALT_2'] < 0.9]\n",
    "    snp.to_csv(\"SRA_data/%s/%s_snp.csv\" % (smpl, smpl), sep='\\t')\n",
    "snp"
   ]
  },
  {
   "cell_type": "markdown",
   "metadata": {},
   "source": [
    "# SNP for all nematodes, table and barplot"
   ]
  },
  {
   "cell_type": "code",
   "execution_count": null,
   "metadata": {},
   "outputs": [],
   "source": [
    "import pandas as pd\n",
    "from Bio import SeqIO\n",
    "snp_all = pd.DataFrame({'Nematode':[], 'Locus': [], 'Position':[]})\n",
    "!mkdir SRA_data/Figures #making a folder for figures\n",
    "for smpl in sra_accessions:\n",
    "    snp_sep = pd.DataFrame({'Locus': [], 'Position':[]})\n",
    "    snp_dict = {}\n",
    "    if \"Minc\" in smpl:\n",
    "        ref = \"Reference/Meloidogyne_incognita/Meloidogyne_incognita.fasta\"\n",
    "    elif \"Hbact\" in smpl:\n",
    "        ref = \"Reference/Heterorhabditis_bacteriophora/Heterorhabditis_bacteriophora.fasta\"\n",
    "    elif \"Rreni\" in smpl:\n",
    "        ref = \"Reference/Rotylenchulus_reniformis/Rotylenchulus_reniformis.fasta\"\n",
    "    elif \"Ananu\" in smpl:\n",
    "        ref = \"Reference/Acrobeloides_nanus/Acrobeloides_nanus.fasta\"   \n",
    "    elif \"Grost\" in smpl:\n",
    "        ref = \"Reference/Globodera_rostochiensis/Globodera_rostochiensis.fasta\"  \n",
    "    for record in SeqIO.parse(ref, \"fasta\"):\n",
    "        snp_dict.update({record.id:str(record.seq)})\n",
    "    snp = pd.read_table(\"SRA_data/%s/%s_snp.csv\" % (smpl, smpl), index_col=0)\n",
    "    df1 = pd.DataFrame([[smpl,'18S',  snp[snp['CHROM'].str.contains(\"18S\") ]['POS'].tolist()]],columns=['Nematode','Locus','Position'])\n",
    "    df2 = pd.DataFrame([[smpl,'ITS1', snp[snp['CHROM'].str.contains(\"ITS1\")]['POS'].tolist()]],columns=['Nematode','Locus','Position'])\n",
    "    df3 = pd.DataFrame([[smpl,'5.8S', snp[snp['CHROM'].str.contains(\"5.8S\")]['POS'].tolist()]],columns=['Nematode','Locus','Position'])\n",
    "    df4 = pd.DataFrame([[smpl,'ITS2', snp[snp['CHROM'].str.contains(\"ITS2\")]['POS'].tolist()]],columns=['Nematode','Locus','Position'])\n",
    "    df5 = pd.DataFrame([[smpl,'28S',  snp[snp['CHROM'].str.contains(\"28S\") ]['POS'].tolist()]],columns=['Nematode','Locus','Position'])\n",
    "    for key in snp_dict:\n",
    "        if '18S' in key:\n",
    "            df1['snp_50bp'] = (df1['Position'].str.len()/len(snp_dict[key]))*50\n",
    "        elif 'ITS1' in key:\n",
    "            df2['snp_50bp'] = (df2['Position'].str.len()/len(snp_dict[key]))*50\n",
    "        elif '5.8S' in key:\n",
    "            df3['snp_50bp'] = (df3['Position'].str.len()/len(snp_dict[key]))*50\n",
    "        elif 'ITS2' in key:\n",
    "            df4['snp_50bp'] = (df4['Position'].str.len()/len(snp_dict[key]))*50\n",
    "        elif '28S' in key:\n",
    "            df5['snp_50bp'] = (df5['Position'].str.len()/len(snp_dict[key]))*50\n",
    "    snp_all = pd.concat([snp_all, df1, df2, df3, df4, df5])\n",
    "    snp_sep = pd.concat([snp_all, df1, df2, df3, df4, df5])\n",
    "    snp_sep = snp_sep.filter(items = ['Locus', 'snp_50bp', 'Position'])\n",
    "    snp_sep.to_csv(\"SRA_data/%s/%s_snp_sep.csv\" % (smpl,smpl), sep='\\t') \n",
    "    snp_sep_plot = snp_sep.filter(items = ['Locus', 'snp_50bp'])\n",
    "    snp_sep_plot.to_csv(\"SRA_data/%s/%s_snp_sep_plot.csv\" % (smpl,smpl), sep='\\t')\n",
    "snp_all = snp_all.filter(items = ['Nematode','Locus', 'snp_50bp', 'Position'])\n",
    "snp_all.to_csv(\"SRA_data/Figures/snp_all.csv\", sep='\\t')\n",
    "snp_all_plot = snp_all.filter(items = ['Nematode','Locus', 'snp_50bp'])\n",
    "snp_all_plot.to_csv(\"SRA_data/Figures/snp_all_plot.csv\", sep='\\t')"
   ]
  },
  {
   "cell_type": "code",
   "execution_count": null,
   "metadata": {},
   "outputs": [],
   "source": [
    "def add_species(string):\n",
    "    return string[:4]\n",
    "snp_all_plot['sp'] = snp_all_plot.Nematode.apply(add_species)\n",
    "LSU = snp_all_plot.loc[snp_all_plot.Locus=='18S']\n",
    "\n",
    "import matplotlib.pyplot as plt\n",
    "import seaborn as sns\n",
    "%matplotlib inline\n",
    "data = snp_all_plot\n",
    "fig, axes = plt.subplots(nrows=len(set(data.Locus)),\n",
    "                         tight_layout=True,\n",
    "                         figsize=(2.8,7),\n",
    "                         dpi=300)\n",
    "locus_list = ['18S','ITS1','5.8S','ITS2','28S']\n",
    "i = 0\n",
    "for locus in locus_list:\n",
    "    ax = axes[i]\n",
    "    ax_data = data.loc[data.Locus==locus] \n",
    "    sns.boxplot(y='snp_50bp', x='sp', data=ax_data, width=0.5,palette=\"colorblind\",ax=ax)\n",
    "    sns.swarmplot(y='snp_50bp', x='sp', data=ax_data,palette=\"colorblind\",ax=ax)\n",
    "    ax.set_title(locus)\n",
    "    ax.set_xlabel('')\n",
    "    i += 1\n",
    "plt.savefig('SRA_data/Figures/snp_rate_dist_per_sp.png')"
   ]
  },
  {
   "cell_type": "markdown",
   "metadata": {},
   "source": [
    "# SNP heatmapes by species and genes separately"
   ]
  },
  {
   "cell_type": "code",
   "execution_count": null,
   "metadata": {},
   "outputs": [],
   "source": [
    "import matplotlib.pyplot as plt\n",
    "import seaborn as sns\n",
    "import collections\n",
    "%matplotlib inline\n",
    "multisamples = [] #species with several samples\n",
    "for smpl in sra_accessions:\n",
    "    snp_by_sp = snp_all_plot.loc[snp_all_plot.sp==smpl[:4]]\n",
    "    if len(snp_by_sp.index) > len(set(snp_by_sp.Locus)):\n",
    "        multisamples.append(smpl[:4])\n",
    "#User defined values, can be manualy adjusted to make figures look nice\n",
    "d = collections.defaultdict(dict) #step dictionary, to divide long dataframes on axes by this step\n",
    "d['Rren']['18S']  = 31\n",
    "d['Rren']['ITS1'] = 100\n",
    "d['Rren']['5.8S'] = 100\n",
    "d['Rren']['ITS2'] = 100\n",
    "d['Rren']['28S']  = 35\n",
    "d['Minc']['18S']  = 32\n",
    "d['Minc']['ITS1'] = 100\n",
    "d['Minc']['5.8S'] = 100\n",
    "d['Minc']['ITS2'] = 100\n",
    "d['Minc']['28S']  = 42\n",
    "d['Gros']['18S']  = 100\n",
    "d['Gros']['ITS1'] = 100\n",
    "d['Gros']['5.8S'] = 100\n",
    "d['Gros']['ITS2'] = 100\n",
    "d['Gros']['28S']  = 38\n",
    "f = collections.defaultdict(dict) #figures sizes dictionary, for plotting heatmaps\n",
    "f['Rren']['18S']  = [6,3]\n",
    "f['Rren']['ITS1'] = [6.8,2.5]\n",
    "f['Rren']['5.8S'] = [2.5,2.5]\n",
    "f['Rren']['ITS2'] = [4,2.5]\n",
    "f['Rren']['28S']  = [6.5,4]\n",
    "f['Minc']['18S']  = [7,4]\n",
    "f['Minc']['ITS1'] = [6.5,2.5]\n",
    "f['Minc']['5.8S'] = [2.5,2.5]\n",
    "f['Minc']['ITS2'] = [3.5,2.5]\n",
    "f['Minc']['28S']  = [8,4]\n",
    "f['Gros']['18S']  = [3,2]\n",
    "f['Gros']['ITS1'] = [3,3]\n",
    "f['Gros']['5.8S'] = [3,2]\n",
    "f['Gros']['ITS2'] = [3,3]\n",
    "f['Gros']['28S']  = [7,3]\n",
    "cmap = sns.cm.rocket_r #reverse colors in heatmaps, dark - SNP, light - no SNP\n",
    "!mkdir SRA_data/Figures/SNP_by_genes_and_species #making a subfolder for figures\n",
    "for item in set(multisamples):\n",
    "    snp_by_sp = snp_all.loc[snp_all_plot.sp==item]\n",
    "    snp_by_sp = snp_by_sp.set_index(['Nematode'])\n",
    "    for gene in set(snp_by_sp.Locus):\n",
    "        position_list, positions = [],[]\n",
    "        snp_by_gene = snp_by_sp.loc[snp_by_sp.Locus==gene]\n",
    "        for index, row in snp_by_gene.iterrows():\n",
    "            position_list.extend(snp_by_gene['Position'].tolist())\n",
    "        positions = list(set([number for sublist in position_list for number in sublist]))\n",
    "        positions.sort()\n",
    "        if len(positions) > 0:\n",
    "            df = pd.DataFrame(columns = positions, dtype=float)\n",
    "            snp_heatmap = snp_by_gene.filter(items = ['Nematode'])\n",
    "            snp_heatmap = pd.concat([snp_heatmap, df])\n",
    "            for index, row in snp_by_gene.iterrows():\n",
    "                for snp in list(snp_heatmap):\n",
    "                    if snp in snp_by_gene.loc[index]['Position']: \n",
    "                        snp_heatmap.loc[index][snp] = 1\n",
    "                    else:\n",
    "                        snp_heatmap.loc[index][snp] = 0\n",
    "            heatmap = snp_heatmap\n",
    "            heatmap.to_csv(\"SRA_data/Figures/SNP_by_genes_and_species/%s_%s_snp.csv\" % (item, gene), sep='\\t')\n",
    "            step = d[item][gene]\n",
    "            if len(heatmap.columns) !=0 and len(heatmap.columns) %step ==0:\n",
    "                n = len(heatmap.columns)/step\n",
    "            else:\n",
    "                n = len(heatmap.columns)//step + 1\n",
    "            if n == 1:\n",
    "                fig, ax = plt.subplots(tight_layout=True, dpi=300, figsize=(f[item][gene][0], f[item][gene][1]))\n",
    "                sns.heatmap(data=heatmap, square=True, cbar=False, cmap = cmap)\n",
    "                ax.set_title('%s %s' % (item, gene))\n",
    "            else:\n",
    "                fig, axes = plt.subplots(nrows = n, tight_layout=True, dpi=300, figsize=(f[item][gene][0], f[item][gene][1]))\n",
    "                start = 0\n",
    "                for i in range(n):\n",
    "                    ax = axes[i]\n",
    "                    stop = start + step\n",
    "                    if len(heatmap.columns) > stop:\n",
    "                        ax_data = heatmap.iloc[:,start:stop]\n",
    "                    else:\n",
    "                        ax_data = heatmap.iloc[:,start:len(heatmap.columns)]\n",
    "                    start = stop\n",
    "                    sns.heatmap(data=ax_data,ax=ax, square=True, cbar=False, cmap = cmap)\n",
    "                    ax.set_title('%s %s part %s' % (item, gene, i+1))\n",
    "            plt.xticks(rotation=90) \n",
    "            plt.savefig(\"SRA_data/Figures/SNP_by_genes_and_species/%s_%s_snp.png\" % (item, gene), dpi=300)"
   ]
  }
 ],
 "metadata": {
  "kernelspec": {
   "display_name": "Python 2",
   "language": "python",
   "name": "python2"
  },
  "language_info": {
   "codemirror_mode": {
    "name": "ipython",
    "version": 2
   },
   "file_extension": ".py",
   "mimetype": "text/x-python",
   "name": "python",
   "nbconvert_exporter": "python",
   "pygments_lexer": "ipython2",
   "version": "2.7.15"
  }
 },
 "nbformat": 4,
 "nbformat_minor": 2
}
