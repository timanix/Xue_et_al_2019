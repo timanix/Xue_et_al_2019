{
 "cells": [
  {
   "cell_type": "markdown",
   "metadata": {},
   "source": [
    "# SNP_pipeline.ipynb contains following steps:\n",
    "## 1. Installing dependencies  \n",
    "This step will install all software used in this pipeline, assuming python and conda/anaconda already installed\n",
    "\n",
    "## 2. Dictionary of necessary files\n",
    "SRA files and sample names can be stored in a dictionary, which also may be used for accessing files. SRA numbers for samples of the interest can be obtained from NCBI (https://www.ncbi.nlm.nih.gov/sra)\n",
    "\n",
    "## 3. Getting SRA data\n",
    "Creating subfolders for SRA files and downloading them using sra-tools\n",
    "\n",
    "## 4. Quality trimming with Trimmomatic\n",
    "Quality trimming and removing primers and adapters (if there are any)  \n",
    "- Input files - reads 1 and 2\n",
    "- Output files - paired and unpaired reads.  \n",
    "\n",
    "Since in this pipeline only paired reads used, optionally input files and unpired output files can be removed to save some space on drive.  \n",
    "\n",
    "## 5. Running FastQC with trimmed and paired files\n",
    "Quality of trimmed and paired files can be checked using FastQC\n",
    "- Input files - trimmed and paired reads\n",
    "- Output files - evaluation files, produced by FastQC\n",
    "\n",
    "## 6. BWA alignment and SNP calling\n",
    "In this step, it is neceessary:\n",
    "1. Provide reference sequences for each of the samples\n",
    "2. bwa alignment - align reads to reference sequence\n",
    "    - Input files - paired and trimmed reads\n",
    "    - Output files - aligned files in filename.sam format\n",
    "3. Convert sam files into bam files\n",
    "    - Input files - sam files\n",
    "    - Output files - bam files\n",
    "4. Sort and index bam files\n",
    "    - Input files - bam files\n",
    "    - Output files - sorted and indexed bam files\n",
    "5. Performing SNP calling using Freebayes\n",
    "    - Input files - reference and sorted bam files\n",
    "    - Output files - vcf files with SNP observed\n",
    "6. If necessary, use vcftools for filtering\n",
    "\n",
    "## 7. SNP ratio\n",
    "Calculating and extracting the ratio between different variants in called SNPs. If in some of the SNPs one of the variants presented in more than 90% of the reads it will be filtered out during this step (can be easily changed or removed)\n",
    "\n",
    "## 8. SNP for all nematodes, table and barplot\n",
    "Create barplot for samples of the interest by species and gene regions\n",
    "- Output files - figure with barplots, indicating the amount of SNP per 50 bp, by species, genes and isolates\n",
    "\n",
    "## 9. SNP heatmapes by species and genes separately\n",
    "Create heatmaps for species, presented by several isolates to see variability of SNPs within species\n",
    "- Output files - heatmaps-like figures with SNP positions by genes (regions) and different isolates within species"
   ]
  },
  {
   "cell_type": "code",
   "execution_count": null,
   "metadata": {},
   "outputs": [],
   "source": []
  }
 ],
 "metadata": {
  "kernelspec": {
   "display_name": "Python 2",
   "language": "python",
   "name": "python2"
  },
  "language_info": {
   "codemirror_mode": {
    "name": "ipython",
    "version": 2
   },
   "file_extension": ".py",
   "mimetype": "text/x-python",
   "name": "python",
   "nbconvert_exporter": "python",
   "pygments_lexer": "ipython2",
   "version": "2.7.15"
  }
 },
 "nbformat": 4,
 "nbformat_minor": 2
}
