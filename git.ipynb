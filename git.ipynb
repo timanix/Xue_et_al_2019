{
 "cells": [
  {
   "cell_type": "code",
   "execution_count": null,
   "metadata": {},
   "outputs": [],
   "source": [
    "from jgh.Interface import Interface\n",
    "import glob\n",
    "\n",
    "repo = Interface()\n",
    "\n",
    "for path in glob.glob('*'):\n",
    "    if path == 'raw_reads':\n",
    "        continue\n",
    "    if path == 'jgh':\n",
    "        continue\n",
    "    repo.evaladd(path)\n",
    "    repo.commitpush(path)"
   ]
  },
  {
   "cell_type": "code",
   "execution_count": null,
   "metadata": {},
   "outputs": [],
   "source": []
  }
 ],
 "metadata": {
  "kernelspec": {
   "display_name": "Python 2",
   "language": "python",
   "name": "python2"
  },
  "language_info": {
   "codemirror_mode": {
    "name": "ipython",
    "version": 2
   },
   "file_extension": ".py",
   "mimetype": "text/x-python",
   "name": "python",
   "nbconvert_exporter": "python",
   "pygments_lexer": "ipython2",
   "version": "2.7.15"
  }
 },
 "nbformat": 4,
 "nbformat_minor": 2
}
